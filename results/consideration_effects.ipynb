{
 "cells": [
  {
   "cell_type": "code",
   "execution_count": 33,
   "metadata": {},
   "outputs": [],
   "source": [
    "import numpy as np\n",
    "import pandas as pd\n",
    "import yaml\n",
    "from IPython.display import display\n",
    "import importlib\n",
    "import copy\n",
    "import awkward as ak\n",
    "import seaborn as sns\n",
    "\n",
    "import study_lib"
   ]
  },
  {
   "cell_type": "code",
   "execution_count": 2,
   "metadata": {},
   "outputs": [],
   "source": [
    "base_config_yaml = \"\"\"\n",
    "candidates: 5\n",
    "voters: 555\n",
    "considerations:\n",
    "- Likability:\n",
    "    mean: 0.25\n",
    "- Irrational:\n",
    "    sigma: 1.0\n",
    "    camps: 7\n",
    "    individualism_deg: 30\n",
    "- Issues:\n",
    "    issues:\n",
    "    - sigma: 1.0\n",
    "      halfcsep: 1.5\n",
    "      halfvsep: 2.0\n",
    "    - sigma: 0.5\n",
    "      halfcsep: 1.0\n",
    "      halfvsep: 1.0\n",
    "    - sigma: 0.5\n",
    "      halfcsep: 2.0\n",
    "      halfvsep: 2.0\n",
    "methods:\n",
    "- Plurality:\n",
    "    strat: Honest\n",
    "- Plurality:\n",
    "    strat: Strategic\n",
    "- Range:\n",
    "    nranks: 10\n",
    "    strat: Honest\n",
    "- Range:\n",
    "    nranks: 10\n",
    "    strat: Strategic\n",
    "    strategic_stretch_factor: 1.5\n",
    "- Range:\n",
    "    nranks: 2\n",
    "    strat: Honest\n",
    "- Range:\n",
    "    nranks: 2\n",
    "    strat: Strategic\n",
    "    strategic_stretch_factor: 4.0\n",
    "- InstantRunoff: {}\n",
    "- STAR:\n",
    "    strat: Honest\n",
    "- STAR:\n",
    "    strat: Strategic\n",
    "    strategic_stretch_factor: 1.5\n",
    "- RP:\n",
    "    strat: Honest\n",
    "\"\"\"\n",
    "config = yaml.safe_load(base_config_yaml)"
   ]
  },
  {
   "cell_type": "code",
   "execution_count": 9,
   "metadata": {},
   "outputs": [],
   "source": [
    "importlib.reload(study_lib)\n",
    "do_run = study_lib.do_run \n",
    "run_experiment = study_lib.run_experiment\n",
    "cs = study_lib.config_series"
   ]
  },
  {
   "cell_type": "code",
   "execution_count": 10,
   "metadata": {},
   "outputs": [
    {
     "data": {
      "text/html": [
       "<div>\n",
       "<style scoped>\n",
       "    .dataframe tbody tr th:only-of-type {\n",
       "        vertical-align: middle;\n",
       "    }\n",
       "\n",
       "    .dataframe tbody tr th {\n",
       "        vertical-align: top;\n",
       "    }\n",
       "\n",
       "    .dataframe thead th {\n",
       "        text-align: right;\n",
       "    }\n",
       "</style>\n",
       "<table border=\"1\" class=\"dataframe\">\n",
       "  <thead>\n",
       "    <tr style=\"text-align: right;\">\n",
       "      <th></th>\n",
       "      <th>candidates</th>\n",
       "      <th>pl_h_mR</th>\n",
       "      <th>pl_s_mR</th>\n",
       "      <th>range_10_h_mR</th>\n",
       "      <th>range_10_s_mR</th>\n",
       "      <th>aprv_h_mR</th>\n",
       "      <th>aprv_s_mR</th>\n",
       "      <th>IRV_h_mR</th>\n",
       "      <th>star_6_h_mR</th>\n",
       "      <th>star_6_s_mR</th>\n",
       "      <th>rp_h_mR</th>\n",
       "    </tr>\n",
       "  </thead>\n",
       "  <tbody>\n",
       "    <tr>\n",
       "      <th>0</th>\n",
       "      <td>2</td>\n",
       "      <td>0.102400</td>\n",
       "      <td>0.102400</td>\n",
       "      <td>0.102400</td>\n",
       "      <td>0.102400</td>\n",
       "      <td>0.102400</td>\n",
       "      <td>0.102400</td>\n",
       "      <td>0.102400</td>\n",
       "      <td>0.102400</td>\n",
       "      <td>0.102400</td>\n",
       "      <td>0.102400</td>\n",
       "    </tr>\n",
       "    <tr>\n",
       "      <th>1</th>\n",
       "      <td>3</td>\n",
       "      <td>0.261745</td>\n",
       "      <td>0.057442</td>\n",
       "      <td>0.030608</td>\n",
       "      <td>0.027935</td>\n",
       "      <td>0.031779</td>\n",
       "      <td>0.035054</td>\n",
       "      <td>0.057915</td>\n",
       "      <td>0.032289</td>\n",
       "      <td>0.034997</td>\n",
       "      <td>0.033648</td>\n",
       "    </tr>\n",
       "    <tr>\n",
       "      <th>2</th>\n",
       "      <td>4</td>\n",
       "      <td>0.277346</td>\n",
       "      <td>0.070063</td>\n",
       "      <td>0.020879</td>\n",
       "      <td>0.016814</td>\n",
       "      <td>0.025248</td>\n",
       "      <td>0.022632</td>\n",
       "      <td>0.056156</td>\n",
       "      <td>0.020815</td>\n",
       "      <td>0.023665</td>\n",
       "      <td>0.023838</td>\n",
       "    </tr>\n",
       "    <tr>\n",
       "      <th>3</th>\n",
       "      <td>5</td>\n",
       "      <td>0.279160</td>\n",
       "      <td>0.088788</td>\n",
       "      <td>0.014697</td>\n",
       "      <td>0.012559</td>\n",
       "      <td>0.019619</td>\n",
       "      <td>0.018347</td>\n",
       "      <td>0.055606</td>\n",
       "      <td>0.016251</td>\n",
       "      <td>0.018188</td>\n",
       "      <td>0.018475</td>\n",
       "    </tr>\n",
       "    <tr>\n",
       "      <th>4</th>\n",
       "      <td>6</td>\n",
       "      <td>0.296225</td>\n",
       "      <td>0.110565</td>\n",
       "      <td>0.012844</td>\n",
       "      <td>0.010262</td>\n",
       "      <td>0.020518</td>\n",
       "      <td>0.016673</td>\n",
       "      <td>0.053157</td>\n",
       "      <td>0.013726</td>\n",
       "      <td>0.016159</td>\n",
       "      <td>0.017060</td>\n",
       "    </tr>\n",
       "  </tbody>\n",
       "</table>\n",
       "</div>"
      ],
      "text/plain": [
       "   candidates   pl_h_mR   pl_s_mR  range_10_h_mR  range_10_s_mR  aprv_h_mR  \\\n",
       "0           2  0.102400  0.102400       0.102400       0.102400   0.102400   \n",
       "1           3  0.261745  0.057442       0.030608       0.027935   0.031779   \n",
       "2           4  0.277346  0.070063       0.020879       0.016814   0.025248   \n",
       "3           5  0.279160  0.088788       0.014697       0.012559   0.019619   \n",
       "4           6  0.296225  0.110565       0.012844       0.010262   0.020518   \n",
       "\n",
       "   aprv_s_mR  IRV_h_mR  star_6_h_mR  star_6_s_mR   rp_h_mR  \n",
       "0   0.102400  0.102400     0.102400     0.102400  0.102400  \n",
       "1   0.035054  0.057915     0.032289     0.034997  0.033648  \n",
       "2   0.022632  0.056156     0.020815     0.023665  0.023838  \n",
       "3   0.018347  0.055606     0.016251     0.018188  0.018475  \n",
       "4   0.016673  0.053157     0.013726     0.016159  0.017060  "
      ]
     },
     "execution_count": 10,
     "metadata": {},
     "output_type": "execute_result"
    }
   ],
   "source": [
    "df = run_experiment(cs(config, 'candidates', [2, 3, 4, 5, 6]), trials=10000)\n",
    "df"
   ]
  },
  {
   "cell_type": "code",
   "execution_count": 11,
   "metadata": {},
   "outputs": [
    {
     "data": {
      "text/html": [
       "<pre>[1.41,\n",
       " 1.4,\n",
       " 0,\n",
       " 1.19]\n",
       "------------------\n",
       "type: 4 * ?float64</pre>"
      ],
      "text/plain": [
       "<Array [1.41, 1.4, 0, 1.19] type='4 * ?float64'>"
      ]
     },
     "metadata": {},
     "output_type": "display_data"
    },
    {
     "data": {
      "text/html": [
       "<pre>[[0],\n",
       " [0, 0],\n",
       " [0, 0, 0],\n",
       " [0, 0, 0, 0]]\n",
       "--------------------------------\n",
       "type: 4 * option[var * ?float64]</pre>"
      ],
      "text/plain": [
       "<Array [[0], [0, 0], [...], [0, 0, 0, 0]] type='4 * option[var * ?float64]'>"
      ]
     },
     "metadata": {},
     "output_type": "display_data"
    }
   ],
   "source": [
    "config_like_only = copy.deepcopy(config)\n",
    "config_like_only['candidates'] = 4\n",
    "config_like_only['considerations'] = yaml.safe_load(\n",
    "'''\n",
    "- Likability:\n",
    "    mean: 1.0\n",
    "'''\n",
    ")\n",
    "result = do_run(config_like_only, 5)\n",
    "display(result['cand_regret'][0])\n",
    "display(result['cov_matrix'][0])"
   ]
  },
  {
   "cell_type": "markdown",
   "metadata": {},
   "source": [
    "With likability as the only consideration, all voter sets of utilities are identical to each other. Variances and covariances are zero."
   ]
  },
  {
   "cell_type": "code",
   "execution_count": 12,
   "metadata": {},
   "outputs": [],
   "source": [
    "def get_corr_coeffs(result, trial_no):\n",
    "    covm = result['cov_matrix'][trial_no]\n",
    "    ncand = len(covm)\n",
    "    cc = np.eye(ncand, dtype=np.float64)\n",
    "    sigmas = []\n",
    "    for i in range(ncand):\n",
    "        sigmas.append(np.sqrt(covm[(i, i)]))\n",
    "    # print(sigmas)\n",
    "    for ix in range(ncand):\n",
    "        for iy in range(ix):\n",
    "            cc[(ix, iy)] = covm[(ix, iy)] / sigmas[ix] / sigmas[iy]\n",
    "    return cc"
   ]
  },
  {
   "cell_type": "code",
   "execution_count": 13,
   "metadata": {},
   "outputs": [
    {
     "name": "stderr",
     "output_type": "stream",
     "text": [
      "/tmp/ipykernel_600875/3163430169.py:11: RuntimeWarning: invalid value encountered in scalar divide\n",
      "  cc[(ix, iy)] = covm[(ix, iy)] / sigmas[ix] / sigmas[iy]\n"
     ]
    },
    {
     "data": {
      "text/plain": [
       "array([[ 1.,  0.,  0.,  0.],\n",
       "       [nan,  1.,  0.,  0.],\n",
       "       [nan, nan,  1.,  0.],\n",
       "       [nan, nan, nan,  1.]])"
      ]
     },
     "metadata": {},
     "output_type": "display_data"
    }
   ],
   "source": [
    "display(get_corr_coeffs(result, 0))"
   ]
  },
  {
   "cell_type": "code",
   "execution_count": 14,
   "metadata": {},
   "outputs": [
    {
     "data": {
      "text/plain": [
       "array([[ 1.        ,  0.        ,  0.        ,  0.        ],\n",
       "       [ 0.00268738,  1.        ,  0.        ,  0.        ],\n",
       "       [ 0.00172234, -0.00139973,  1.        ,  0.        ],\n",
       "       [-0.00171959,  0.00580155, -0.00432785,  1.        ]])"
      ]
     },
     "metadata": {},
     "output_type": "display_data"
    },
    {
     "data": {
      "text/plain": [
       "array([[ 1.00000000e+00,  0.00000000e+00,  0.00000000e+00,\n",
       "         0.00000000e+00],\n",
       "       [-2.03732485e-03,  1.00000000e+00,  0.00000000e+00,\n",
       "         0.00000000e+00],\n",
       "       [ 7.94856619e-03,  8.72417434e-04,  1.00000000e+00,\n",
       "         0.00000000e+00],\n",
       "       [ 5.62530531e-06,  2.96202197e-04, -1.73552066e-03,\n",
       "         1.00000000e+00]])"
      ]
     },
     "metadata": {},
     "output_type": "display_data"
    }
   ],
   "source": [
    "config_irr = copy.deepcopy(config)\n",
    "config_irr['candidates'] = 4\n",
    "config_irr['voters'] = 100001\n",
    "config_irr['considerations'] = yaml.safe_load(\n",
    "'''\n",
    "- Irrational:\n",
    "    sigma: 1.0\n",
    "    camps: 2\n",
    "    individualism_deg: 90\n",
    "'''\n",
    ")\n",
    "result = do_run(config_irr, 5)\n",
    "display(get_corr_coeffs(result, 0))\n",
    "display(get_corr_coeffs(result, 1))\n"
   ]
  },
  {
   "cell_type": "markdown",
   "metadata": {},
   "source": [
    "Good. Correlation coefficients are very small, because irrational voters (all independent) have utilities that are uncorrelated with those of other voters."
   ]
  },
  {
   "cell_type": "markdown",
   "metadata": {},
   "source": [
    "### This ended up being fodder for a unit test of the Irrational consideration"
   ]
  },
  {
   "cell_type": "code",
   "execution_count": 200,
   "metadata": {},
   "outputs": [
    {
     "data": {
      "text/plain": [
       "array([[0.3090016 , 2.09904798, 0.82317008, 3.13087807, 1.61064933,\n",
       "        2.01657254, 2.91759999, 1.55519431, 2.89235991, 2.97551052],\n",
       "       [2.24721985, 2.65914812, 1.86329343, 2.21673783, 0.84797068,\n",
       "        0.56396652, 0.44596168, 3.40639598, 0.65299382, 1.77379581],\n",
       "       [0.58539738, 1.22377722, 3.06071522, 1.3184892 , 0.48842566,\n",
       "        0.79741721, 2.61924207, 3.07438678, 1.22978133, 3.12792367],\n",
       "       [2.85872826, 0.52028883, 1.38963001, 0.35922687, 0.16900879,\n",
       "        1.34662276, 0.17156912, 1.73254542, 1.48895542, 1.27941031],\n",
       "       [0.78623712, 0.66519608, 1.30919134, 2.73176796, 1.99823116,\n",
       "        3.12736477, 3.38542127, 1.83569564, 3.25960743, 1.54455224]])"
      ]
     },
     "execution_count": 200,
     "metadata": {},
     "output_type": "execute_result"
    }
   ],
   "source": [
    "utilities = np.random.uniform(0., np.sqrt(12.), 50)\n",
    "utilities = np.reshape(utilities, newshape=(5, 10))\n",
    "utilities"
   ]
  },
  {
   "cell_type": "code",
   "execution_count": 201,
   "metadata": {},
   "outputs": [
    {
     "name": "stdout",
     "output_type": "stream",
     "text": [
      "[[0.3090016  2.24721985 0.58539738 2.85872826 0.78623712]\n",
      " [2.09904798 2.65914812 1.22377722 0.52028883 0.66519608]\n",
      " [0.82317008 1.86329343 3.06071522 1.38963001 1.30919134]\n",
      " [3.13087807 2.21673783 1.3184892  0.35922687 2.73176796]\n",
      " [1.61064933 0.84797068 0.48842566 0.16900879 1.99823116]\n",
      " [2.01657254 0.56396652 0.79741721 1.34662276 3.12736477]\n",
      " [2.91759999 0.44596168 2.61924207 0.17156912 3.38542127]\n",
      " [1.55519431 3.40639598 3.07438678 1.73254542 1.83569564]\n",
      " [2.89235991 0.65299382 1.22978133 1.48895542 3.25960743]\n",
      " [2.97551052 1.77379581 3.12792367 1.27941031 1.54455224]]\n"
     ]
    }
   ],
   "source": [
    "np.set_printoptions(threshold=100000)\n",
    "print(str(utilities.transpose()))"
   ]
  },
  {
   "cell_type": "code",
   "execution_count": 202,
   "metadata": {},
   "outputs": [
    {
     "data": {
      "text/plain": [
       "array([[ 0.94020538, -0.32073684,  0.16108757, -0.49611513,  0.62033183],\n",
       "       [-0.32073684,  1.01169877,  0.31368278,  0.27153381, -0.70086438],\n",
       "       [ 0.16108757,  0.31368278,  1.19057637, -0.00328159, -0.05275154],\n",
       "       [-0.49611513,  0.27153381, -0.00328159,  0.71388613, -0.31396175],\n",
       "       [ 0.62033183, -0.70086438, -0.05275154, -0.31396175,  1.02640331]])"
      ]
     },
     "execution_count": 202,
     "metadata": {},
     "output_type": "execute_result"
    }
   ],
   "source": [
    "np.cov(utilities)"
   ]
  },
  {
   "cell_type": "code",
   "execution_count": 220,
   "metadata": {},
   "outputs": [
    {
     "data": {
      "text/plain": [
       "array([[ 0.99333244, -0.00444264,  0.01690256,  0.0234099 , -0.03744667],\n",
       "       [-0.00444264,  1.01777285, -0.02395978, -0.02019903, -0.06810528],\n",
       "       [ 0.01690256, -0.02395978,  0.99728841, -0.08037311, -0.03790731],\n",
       "       [ 0.0234099 , -0.02019903, -0.08037311,  1.00854158,  0.02726133],\n",
       "       [-0.03744667, -0.06810528, -0.03790731,  0.02726133,  0.99367376]])"
      ]
     },
     "execution_count": 220,
     "metadata": {},
     "output_type": "execute_result"
    }
   ],
   "source": [
    "utilities = np.random.uniform(0., np.sqrt(12.), 5000)\n",
    "utilities = np.reshape(utilities, newshape=(5, 1000))\n",
    "np.cov(utilities)"
   ]
  },
  {
   "cell_type": "code",
   "execution_count": 15,
   "metadata": {},
   "outputs": [
    {
     "data": {
      "text/plain": [
       "array([[ 1.        ,  0.        ,  0.        ,  0.        ],\n",
       "       [-0.83349772,  1.        ,  0.        ,  0.        ],\n",
       "       [-0.24968813,  0.62883505,  1.        ,  0.        ],\n",
       "       [ 0.87790361, -0.539239  ,  0.17303853,  1.        ]])"
      ]
     },
     "metadata": {},
     "output_type": "display_data"
    },
    {
     "data": {
      "text/plain": [
       "array([[ 1.        ,  0.        ,  0.        ,  0.        ],\n",
       "       [ 0.73458779,  1.        ,  0.        ,  0.        ],\n",
       "       [-0.08638284,  0.51797689,  1.        ,  0.        ],\n",
       "       [-0.46758359,  0.11909443,  0.89211367,  1.        ]])"
      ]
     },
     "metadata": {},
     "output_type": "display_data"
    }
   ],
   "source": [
    "config_issue = copy.deepcopy(config)\n",
    "config_issue['candidates'] = 4\n",
    "config_issue['voters'] = 100001\n",
    "config_issue['considerations'] = yaml.safe_load(\n",
    "'''\n",
    "- Issues:\n",
    "    issues:\n",
    "    - halfcsep: 1.0\n",
    "      halfvsep: 1.0\n",
    "      sigma: 1.0\n",
    "'''\n",
    ")\n",
    "result = do_run(config_issue, 5)\n",
    "display(get_corr_coeffs(result, 0))\n",
    "display(get_corr_coeffs(result, 1))\n",
    "# display(get_corr_coeffs(result, 2))\n",
    "# display(get_corr_coeffs(result, 3))"
   ]
  },
  {
   "cell_type": "markdown",
   "metadata": {},
   "source": [
    "When there's a political axis, voters are much more significantly correlated with each other."
   ]
  },
  {
   "cell_type": "code",
   "execution_count": 16,
   "metadata": {},
   "outputs": [
    {
     "data": {
      "text/plain": [
       "np.float64(1.4408)"
      ]
     },
     "execution_count": 16,
     "metadata": {},
     "output_type": "execute_result"
    }
   ],
   "source": [
    "config_new = copy.deepcopy(config)\n",
    "config_new['candidates'] = 6\n",
    "config_new['considerations'] = yaml.safe_load(\n",
    "'''\n",
    "- Irrational:\n",
    "    sigma: 1.0\n",
    "    camps: 11\n",
    "    individualism_deg: 20\n",
    "'''\n",
    ")\n",
    "result = do_run(config_new, 5000)\n",
    "np.mean(result['num_smith'])"
   ]
  },
  {
   "cell_type": "code",
   "execution_count": 17,
   "metadata": {},
   "outputs": [
    {
     "data": {
      "text/plain": [
       "['ideal_cand',\n",
       " 'cand_regret',\n",
       " 'Irrational',\n",
       " 'cov_matrix',\n",
       " 'num_smith',\n",
       " 'in_smith',\n",
       " 'methods']"
      ]
     },
     "metadata": {},
     "output_type": "display_data"
    }
   ],
   "source": [
    "display(result.fields)"
   ]
  },
  {
   "cell_type": "code",
   "execution_count": 19,
   "metadata": {},
   "outputs": [
    {
     "data": {
      "text/html": [
       "<div>\n",
       "<style scoped>\n",
       "    .dataframe tbody tr th:only-of-type {\n",
       "        vertical-align: middle;\n",
       "    }\n",
       "\n",
       "    .dataframe tbody tr th {\n",
       "        vertical-align: top;\n",
       "    }\n",
       "\n",
       "    .dataframe thead th {\n",
       "        text-align: right;\n",
       "    }\n",
       "</style>\n",
       "<table border=\"1\" class=\"dataframe\">\n",
       "  <thead>\n",
       "    <tr style=\"text-align: right;\">\n",
       "      <th></th>\n",
       "      <th>Irrational</th>\n",
       "      <th>avg_nsmith</th>\n",
       "      <th>pl_h_mR</th>\n",
       "      <th>pl_h_insm</th>\n",
       "      <th>pl_s_mR</th>\n",
       "      <th>pl_s_insm</th>\n",
       "      <th>range_10_h_mR</th>\n",
       "      <th>range_10_h_insm</th>\n",
       "      <th>range_10_s_mR</th>\n",
       "      <th>range_10_s_insm</th>\n",
       "      <th>...</th>\n",
       "      <th>aprv_s_mR</th>\n",
       "      <th>aprv_s_insm</th>\n",
       "      <th>IRV_h_mR</th>\n",
       "      <th>IRV_h_insm</th>\n",
       "      <th>star_6_h_mR</th>\n",
       "      <th>star_6_h_insm</th>\n",
       "      <th>star_6_s_mR</th>\n",
       "      <th>star_6_s_insm</th>\n",
       "      <th>rp_h_mR</th>\n",
       "      <th>rp_h_insm</th>\n",
       "    </tr>\n",
       "  </thead>\n",
       "  <tbody>\n",
       "    <tr>\n",
       "      <th>0</th>\n",
       "      <td>0.0</td>\n",
       "      <td>1.0965</td>\n",
       "      <td>0.424064</td>\n",
       "      <td>53.8</td>\n",
       "      <td>0.225163</td>\n",
       "      <td>72.05</td>\n",
       "      <td>0.038813</td>\n",
       "      <td>83.15</td>\n",
       "      <td>0.033466</td>\n",
       "      <td>87.90</td>\n",
       "      <td>...</td>\n",
       "      <td>0.060382</td>\n",
       "      <td>94.90</td>\n",
       "      <td>0.168867</td>\n",
       "      <td>75.80</td>\n",
       "      <td>0.052018</td>\n",
       "      <td>93.05</td>\n",
       "      <td>0.064300</td>\n",
       "      <td>97.75</td>\n",
       "      <td>0.071441</td>\n",
       "      <td>100.00</td>\n",
       "    </tr>\n",
       "    <tr>\n",
       "      <th>1</th>\n",
       "      <td>0.5</td>\n",
       "      <td>1.0375</td>\n",
       "      <td>0.387119</td>\n",
       "      <td>55.4</td>\n",
       "      <td>0.162038</td>\n",
       "      <td>77.70</td>\n",
       "      <td>0.024679</td>\n",
       "      <td>89.35</td>\n",
       "      <td>0.020236</td>\n",
       "      <td>93.05</td>\n",
       "      <td>...</td>\n",
       "      <td>0.028792</td>\n",
       "      <td>98.35</td>\n",
       "      <td>0.102386</td>\n",
       "      <td>84.05</td>\n",
       "      <td>0.024211</td>\n",
       "      <td>96.95</td>\n",
       "      <td>0.028388</td>\n",
       "      <td>99.10</td>\n",
       "      <td>0.029857</td>\n",
       "      <td>100.00</td>\n",
       "    </tr>\n",
       "    <tr>\n",
       "      <th>2</th>\n",
       "      <td>2.0</td>\n",
       "      <td>1.0545</td>\n",
       "      <td>0.127995</td>\n",
       "      <td>76.7</td>\n",
       "      <td>0.046447</td>\n",
       "      <td>92.90</td>\n",
       "      <td>0.011018</td>\n",
       "      <td>91.00</td>\n",
       "      <td>0.010087</td>\n",
       "      <td>94.75</td>\n",
       "      <td>...</td>\n",
       "      <td>0.020732</td>\n",
       "      <td>99.15</td>\n",
       "      <td>0.035061</td>\n",
       "      <td>95.05</td>\n",
       "      <td>0.016646</td>\n",
       "      <td>97.00</td>\n",
       "      <td>0.021499</td>\n",
       "      <td>99.65</td>\n",
       "      <td>0.020737</td>\n",
       "      <td>99.95</td>\n",
       "    </tr>\n",
       "    <tr>\n",
       "      <th>3</th>\n",
       "      <td>4.0</td>\n",
       "      <td>1.0985</td>\n",
       "      <td>0.138646</td>\n",
       "      <td>76.2</td>\n",
       "      <td>0.071293</td>\n",
       "      <td>92.55</td>\n",
       "      <td>0.016990</td>\n",
       "      <td>90.75</td>\n",
       "      <td>0.018584</td>\n",
       "      <td>94.80</td>\n",
       "      <td>...</td>\n",
       "      <td>0.039319</td>\n",
       "      <td>99.10</td>\n",
       "      <td>0.061531</td>\n",
       "      <td>94.55</td>\n",
       "      <td>0.033079</td>\n",
       "      <td>97.70</td>\n",
       "      <td>0.035984</td>\n",
       "      <td>99.60</td>\n",
       "      <td>0.036682</td>\n",
       "      <td>100.00</td>\n",
       "    </tr>\n",
       "    <tr>\n",
       "      <th>4</th>\n",
       "      <td>40.0</td>\n",
       "      <td>1.1400</td>\n",
       "      <td>0.176669</td>\n",
       "      <td>76.2</td>\n",
       "      <td>0.101690</td>\n",
       "      <td>91.65</td>\n",
       "      <td>0.018515</td>\n",
       "      <td>88.55</td>\n",
       "      <td>0.028991</td>\n",
       "      <td>93.75</td>\n",
       "      <td>...</td>\n",
       "      <td>0.060658</td>\n",
       "      <td>98.40</td>\n",
       "      <td>0.083979</td>\n",
       "      <td>94.50</td>\n",
       "      <td>0.045113</td>\n",
       "      <td>97.15</td>\n",
       "      <td>0.055601</td>\n",
       "      <td>99.70</td>\n",
       "      <td>0.050192</td>\n",
       "      <td>100.00</td>\n",
       "    </tr>\n",
       "  </tbody>\n",
       "</table>\n",
       "<p>5 rows × 22 columns</p>\n",
       "</div>"
      ],
      "text/plain": [
       "   Irrational  avg_nsmith   pl_h_mR  pl_h_insm   pl_s_mR  pl_s_insm  \\\n",
       "0         0.0      1.0965  0.424064       53.8  0.225163      72.05   \n",
       "1         0.5      1.0375  0.387119       55.4  0.162038      77.70   \n",
       "2         2.0      1.0545  0.127995       76.7  0.046447      92.90   \n",
       "3         4.0      1.0985  0.138646       76.2  0.071293      92.55   \n",
       "4        40.0      1.1400  0.176669       76.2  0.101690      91.65   \n",
       "\n",
       "   range_10_h_mR  range_10_h_insm  range_10_s_mR  range_10_s_insm  ...  \\\n",
       "0       0.038813            83.15       0.033466            87.90  ...   \n",
       "1       0.024679            89.35       0.020236            93.05  ...   \n",
       "2       0.011018            91.00       0.010087            94.75  ...   \n",
       "3       0.016990            90.75       0.018584            94.80  ...   \n",
       "4       0.018515            88.55       0.028991            93.75  ...   \n",
       "\n",
       "   aprv_s_mR  aprv_s_insm  IRV_h_mR  IRV_h_insm  star_6_h_mR  star_6_h_insm  \\\n",
       "0   0.060382        94.90  0.168867       75.80     0.052018          93.05   \n",
       "1   0.028792        98.35  0.102386       84.05     0.024211          96.95   \n",
       "2   0.020732        99.15  0.035061       95.05     0.016646          97.00   \n",
       "3   0.039319        99.10  0.061531       94.55     0.033079          97.70   \n",
       "4   0.060658        98.40  0.083979       94.50     0.045113          97.15   \n",
       "\n",
       "   star_6_s_mR  star_6_s_insm   rp_h_mR  rp_h_insm  \n",
       "0     0.064300          97.75  0.071441     100.00  \n",
       "1     0.028388          99.10  0.029857     100.00  \n",
       "2     0.021499          99.65  0.020737      99.95  \n",
       "3     0.035984          99.60  0.036682     100.00  \n",
       "4     0.055601          99.70  0.050192     100.00  \n",
       "\n",
       "[5 rows x 22 columns]"
      ]
     },
     "execution_count": 19,
     "metadata": {},
     "output_type": "execute_result"
    }
   ],
   "source": [
    "study_lib.run_experiment(\n",
    "    cs(config, 'considerations.1.Irrational.sigma', [0., 0.5, 2.0, 4.0, 40.0]),\n",
    "    2000,\n",
    "    sm=True,\n",
    ")"
   ]
  },
  {
   "cell_type": "code",
   "execution_count": 20,
   "metadata": {},
   "outputs": [
    {
     "data": {
      "text/html": [
       "<div>\n",
       "<style scoped>\n",
       "    .dataframe tbody tr th:only-of-type {\n",
       "        vertical-align: middle;\n",
       "    }\n",
       "\n",
       "    .dataframe tbody tr th {\n",
       "        vertical-align: top;\n",
       "    }\n",
       "\n",
       "    .dataframe thead th {\n",
       "        text-align: right;\n",
       "    }\n",
       "</style>\n",
       "<table border=\"1\" class=\"dataframe\">\n",
       "  <thead>\n",
       "    <tr style=\"text-align: right;\">\n",
       "      <th></th>\n",
       "      <th>1</th>\n",
       "      <th>avg_nsmith</th>\n",
       "      <th>pl_h_mR</th>\n",
       "      <th>pl_h_insm</th>\n",
       "      <th>pl_s_mR</th>\n",
       "      <th>pl_s_insm</th>\n",
       "      <th>range_10_h_mR</th>\n",
       "      <th>range_10_h_insm</th>\n",
       "      <th>range_10_s_mR</th>\n",
       "      <th>range_10_s_insm</th>\n",
       "      <th>...</th>\n",
       "      <th>aprv_s_mR</th>\n",
       "      <th>aprv_s_insm</th>\n",
       "      <th>IRV_h_mR</th>\n",
       "      <th>IRV_h_insm</th>\n",
       "      <th>star_6_h_mR</th>\n",
       "      <th>star_6_h_insm</th>\n",
       "      <th>star_6_s_mR</th>\n",
       "      <th>star_6_s_insm</th>\n",
       "      <th>rp_h_mR</th>\n",
       "      <th>rp_h_insm</th>\n",
       "    </tr>\n",
       "  </thead>\n",
       "  <tbody>\n",
       "    <tr>\n",
       "      <th>0</th>\n",
       "      <td>0.0</td>\n",
       "      <td>1.0000</td>\n",
       "      <td>1.016493</td>\n",
       "      <td>9.60</td>\n",
       "      <td>0.787268</td>\n",
       "      <td>16.48</td>\n",
       "      <td>0.076509</td>\n",
       "      <td>60.06</td>\n",
       "      <td>0.041114</td>\n",
       "      <td>72.04</td>\n",
       "      <td>...</td>\n",
       "      <td>0.019246</td>\n",
       "      <td>89.30</td>\n",
       "      <td>0.730946</td>\n",
       "      <td>13.08</td>\n",
       "      <td>0.044840</td>\n",
       "      <td>71.04</td>\n",
       "      <td>0.017899</td>\n",
       "      <td>87.10</td>\n",
       "      <td>0.007000</td>\n",
       "      <td>100.0</td>\n",
       "    </tr>\n",
       "    <tr>\n",
       "      <th>1</th>\n",
       "      <td>1.0</td>\n",
       "      <td>1.0182</td>\n",
       "      <td>0.808145</td>\n",
       "      <td>17.42</td>\n",
       "      <td>0.488883</td>\n",
       "      <td>29.44</td>\n",
       "      <td>0.043757</td>\n",
       "      <td>75.06</td>\n",
       "      <td>0.031625</td>\n",
       "      <td>83.22</td>\n",
       "      <td>...</td>\n",
       "      <td>0.030042</td>\n",
       "      <td>93.98</td>\n",
       "      <td>0.441212</td>\n",
       "      <td>27.00</td>\n",
       "      <td>0.026349</td>\n",
       "      <td>86.38</td>\n",
       "      <td>0.026904</td>\n",
       "      <td>95.16</td>\n",
       "      <td>0.027468</td>\n",
       "      <td>100.0</td>\n",
       "    </tr>\n",
       "    <tr>\n",
       "      <th>2</th>\n",
       "      <td>2.0</td>\n",
       "      <td>1.0140</td>\n",
       "      <td>0.472498</td>\n",
       "      <td>31.12</td>\n",
       "      <td>0.241187</td>\n",
       "      <td>49.18</td>\n",
       "      <td>0.025394</td>\n",
       "      <td>82.78</td>\n",
       "      <td>0.012263</td>\n",
       "      <td>90.30</td>\n",
       "      <td>...</td>\n",
       "      <td>0.012115</td>\n",
       "      <td>95.86</td>\n",
       "      <td>0.190436</td>\n",
       "      <td>51.98</td>\n",
       "      <td>0.010831</td>\n",
       "      <td>91.20</td>\n",
       "      <td>0.009204</td>\n",
       "      <td>97.84</td>\n",
       "      <td>0.008768</td>\n",
       "      <td>100.0</td>\n",
       "    </tr>\n",
       "    <tr>\n",
       "      <th>3</th>\n",
       "      <td>4.0</td>\n",
       "      <td>1.0116</td>\n",
       "      <td>0.402400</td>\n",
       "      <td>39.98</td>\n",
       "      <td>0.163162</td>\n",
       "      <td>61.84</td>\n",
       "      <td>0.025533</td>\n",
       "      <td>81.00</td>\n",
       "      <td>0.009886</td>\n",
       "      <td>89.96</td>\n",
       "      <td>...</td>\n",
       "      <td>0.011835</td>\n",
       "      <td>93.40</td>\n",
       "      <td>0.137282</td>\n",
       "      <td>60.12</td>\n",
       "      <td>0.010177</td>\n",
       "      <td>88.98</td>\n",
       "      <td>0.004241</td>\n",
       "      <td>97.12</td>\n",
       "      <td>0.002660</td>\n",
       "      <td>100.0</td>\n",
       "    </tr>\n",
       "  </tbody>\n",
       "</table>\n",
       "<p>4 rows × 22 columns</p>\n",
       "</div>"
      ],
      "text/plain": [
       "     1  avg_nsmith   pl_h_mR  pl_h_insm   pl_s_mR  pl_s_insm  range_10_h_mR  \\\n",
       "0  0.0      1.0000  1.016493       9.60  0.787268      16.48       0.076509   \n",
       "1  1.0      1.0182  0.808145      17.42  0.488883      29.44       0.043757   \n",
       "2  2.0      1.0140  0.472498      31.12  0.241187      49.18       0.025394   \n",
       "3  4.0      1.0116  0.402400      39.98  0.163162      61.84       0.025533   \n",
       "\n",
       "   range_10_h_insm  range_10_s_mR  range_10_s_insm  ...  aprv_s_mR  \\\n",
       "0            60.06       0.041114            72.04  ...   0.019246   \n",
       "1            75.06       0.031625            83.22  ...   0.030042   \n",
       "2            82.78       0.012263            90.30  ...   0.012115   \n",
       "3            81.00       0.009886            89.96  ...   0.011835   \n",
       "\n",
       "   aprv_s_insm  IRV_h_mR  IRV_h_insm  star_6_h_mR  star_6_h_insm  star_6_s_mR  \\\n",
       "0        89.30  0.730946       13.08     0.044840          71.04     0.017899   \n",
       "1        93.98  0.441212       27.00     0.026349          86.38     0.026904   \n",
       "2        95.86  0.190436       51.98     0.010831          91.20     0.009204   \n",
       "3        93.40  0.137282       60.12     0.010177          88.98     0.004241   \n",
       "\n",
       "   star_6_s_insm   rp_h_mR  rp_h_insm  \n",
       "0          87.10  0.007000      100.0  \n",
       "1          95.16  0.027468      100.0  \n",
       "2          97.84  0.008768      100.0  \n",
       "3          97.12  0.002660      100.0  \n",
       "\n",
       "[4 rows x 22 columns]"
      ]
     },
     "execution_count": 20,
     "metadata": {},
     "output_type": "execute_result"
    }
   ],
   "source": [
    "config_new = copy.deepcopy(config)\n",
    "config_new['candidates'] = 6\n",
    "config_new['considerations'] = yaml.safe_load(\n",
    "'''\n",
    "- Issues:\n",
    "    issues:\n",
    "    - sigma: 1.0\n",
    "      halfcsep: 1.5\n",
    "      halfvsep: 2.0\n",
    "    - sigma: 1.0\n",
    "      halfcsep: 0.0\n",
    "      halfvsep: 0.0\n",
    "'''\n",
    ")\n",
    "study_lib.run_experiment(\n",
    "    cs(config_new, 'considerations.0.Issues.issues.1.sigma', [0., 1., 2., 4.0]),\n",
    "    5000,\n",
    "    sm=True\n",
    ")"
   ]
  },
  {
   "cell_type": "code",
   "execution_count": 21,
   "metadata": {},
   "outputs": [
    {
     "data": {
      "text/html": [
       "<div>\n",
       "<style scoped>\n",
       "    .dataframe tbody tr th:only-of-type {\n",
       "        vertical-align: middle;\n",
       "    }\n",
       "\n",
       "    .dataframe tbody tr th {\n",
       "        vertical-align: top;\n",
       "    }\n",
       "\n",
       "    .dataframe thead th {\n",
       "        text-align: right;\n",
       "    }\n",
       "</style>\n",
       "<table border=\"1\" class=\"dataframe\">\n",
       "  <thead>\n",
       "    <tr style=\"text-align: right;\">\n",
       "      <th></th>\n",
       "      <th>candidates</th>\n",
       "      <th>avg_nsmith</th>\n",
       "      <th>pl_h_mR</th>\n",
       "      <th>pl_h_insm</th>\n",
       "      <th>pl_s_mR</th>\n",
       "      <th>pl_s_insm</th>\n",
       "      <th>range_10_h_mR</th>\n",
       "      <th>range_10_h_insm</th>\n",
       "      <th>range_10_s_mR</th>\n",
       "      <th>range_10_s_insm</th>\n",
       "      <th>...</th>\n",
       "      <th>aprv_s_mR</th>\n",
       "      <th>aprv_s_insm</th>\n",
       "      <th>IRV_h_mR</th>\n",
       "      <th>IRV_h_insm</th>\n",
       "      <th>star_6_h_mR</th>\n",
       "      <th>star_6_h_insm</th>\n",
       "      <th>star_6_s_mR</th>\n",
       "      <th>star_6_s_insm</th>\n",
       "      <th>rp_h_mR</th>\n",
       "      <th>rp_h_insm</th>\n",
       "    </tr>\n",
       "  </thead>\n",
       "  <tbody>\n",
       "    <tr>\n",
       "      <th>0</th>\n",
       "      <td>2</td>\n",
       "      <td>1.0</td>\n",
       "      <td>0.087200</td>\n",
       "      <td>100.00</td>\n",
       "      <td>0.087200</td>\n",
       "      <td>100.00</td>\n",
       "      <td>0.087200</td>\n",
       "      <td>100.00</td>\n",
       "      <td>0.087200</td>\n",
       "      <td>100.00</td>\n",
       "      <td>...</td>\n",
       "      <td>0.087200</td>\n",
       "      <td>100.00</td>\n",
       "      <td>0.087200</td>\n",
       "      <td>100.00</td>\n",
       "      <td>0.087200</td>\n",
       "      <td>100.00</td>\n",
       "      <td>0.087200</td>\n",
       "      <td>100.00</td>\n",
       "      <td>0.087200</td>\n",
       "      <td>100.0</td>\n",
       "    </tr>\n",
       "    <tr>\n",
       "      <th>1</th>\n",
       "      <td>3</td>\n",
       "      <td>1.0</td>\n",
       "      <td>0.587437</td>\n",
       "      <td>51.74</td>\n",
       "      <td>0.324265</td>\n",
       "      <td>60.36</td>\n",
       "      <td>0.102797</td>\n",
       "      <td>74.28</td>\n",
       "      <td>0.060323</td>\n",
       "      <td>83.98</td>\n",
       "      <td>...</td>\n",
       "      <td>0.032766</td>\n",
       "      <td>100.00</td>\n",
       "      <td>0.325084</td>\n",
       "      <td>60.28</td>\n",
       "      <td>0.034267</td>\n",
       "      <td>97.10</td>\n",
       "      <td>0.032766</td>\n",
       "      <td>100.00</td>\n",
       "      <td>0.032766</td>\n",
       "      <td>100.0</td>\n",
       "    </tr>\n",
       "    <tr>\n",
       "      <th>2</th>\n",
       "      <td>4</td>\n",
       "      <td>1.0</td>\n",
       "      <td>0.740461</td>\n",
       "      <td>29.84</td>\n",
       "      <td>0.506296</td>\n",
       "      <td>37.82</td>\n",
       "      <td>0.092482</td>\n",
       "      <td>67.70</td>\n",
       "      <td>0.053482</td>\n",
       "      <td>77.08</td>\n",
       "      <td>...</td>\n",
       "      <td>0.021306</td>\n",
       "      <td>94.74</td>\n",
       "      <td>0.493685</td>\n",
       "      <td>36.06</td>\n",
       "      <td>0.031224</td>\n",
       "      <td>86.70</td>\n",
       "      <td>0.015483</td>\n",
       "      <td>95.84</td>\n",
       "      <td>0.012544</td>\n",
       "      <td>100.0</td>\n",
       "    </tr>\n",
       "    <tr>\n",
       "      <th>3</th>\n",
       "      <td>5</td>\n",
       "      <td>1.0</td>\n",
       "      <td>0.888447</td>\n",
       "      <td>17.76</td>\n",
       "      <td>0.672917</td>\n",
       "      <td>25.26</td>\n",
       "      <td>0.084084</td>\n",
       "      <td>62.98</td>\n",
       "      <td>0.044617</td>\n",
       "      <td>75.22</td>\n",
       "      <td>...</td>\n",
       "      <td>0.019656</td>\n",
       "      <td>91.44</td>\n",
       "      <td>0.642065</td>\n",
       "      <td>22.04</td>\n",
       "      <td>0.039001</td>\n",
       "      <td>78.78</td>\n",
       "      <td>0.016528</td>\n",
       "      <td>91.36</td>\n",
       "      <td>0.007283</td>\n",
       "      <td>100.0</td>\n",
       "    </tr>\n",
       "    <tr>\n",
       "      <th>4</th>\n",
       "      <td>6</td>\n",
       "      <td>1.0</td>\n",
       "      <td>1.027729</td>\n",
       "      <td>9.66</td>\n",
       "      <td>0.796196</td>\n",
       "      <td>16.08</td>\n",
       "      <td>0.074628</td>\n",
       "      <td>60.80</td>\n",
       "      <td>0.038825</td>\n",
       "      <td>73.42</td>\n",
       "      <td>...</td>\n",
       "      <td>0.015549</td>\n",
       "      <td>90.40</td>\n",
       "      <td>0.736790</td>\n",
       "      <td>12.18</td>\n",
       "      <td>0.043557</td>\n",
       "      <td>73.16</td>\n",
       "      <td>0.017222</td>\n",
       "      <td>87.76</td>\n",
       "      <td>0.005253</td>\n",
       "      <td>100.0</td>\n",
       "    </tr>\n",
       "    <tr>\n",
       "      <th>5</th>\n",
       "      <td>10</td>\n",
       "      <td>1.0</td>\n",
       "      <td>1.381059</td>\n",
       "      <td>1.78</td>\n",
       "      <td>1.089309</td>\n",
       "      <td>4.76</td>\n",
       "      <td>0.061678</td>\n",
       "      <td>48.86</td>\n",
       "      <td>0.031752</td>\n",
       "      <td>64.36</td>\n",
       "      <td>...</td>\n",
       "      <td>0.016260</td>\n",
       "      <td>81.52</td>\n",
       "      <td>0.891555</td>\n",
       "      <td>2.18</td>\n",
       "      <td>0.052468</td>\n",
       "      <td>53.22</td>\n",
       "      <td>0.027831</td>\n",
       "      <td>70.00</td>\n",
       "      <td>0.001871</td>\n",
       "      <td>100.0</td>\n",
       "    </tr>\n",
       "  </tbody>\n",
       "</table>\n",
       "<p>6 rows × 22 columns</p>\n",
       "</div>"
      ],
      "text/plain": [
       "   candidates  avg_nsmith   pl_h_mR  pl_h_insm   pl_s_mR  pl_s_insm  \\\n",
       "0           2         1.0  0.087200     100.00  0.087200     100.00   \n",
       "1           3         1.0  0.587437      51.74  0.324265      60.36   \n",
       "2           4         1.0  0.740461      29.84  0.506296      37.82   \n",
       "3           5         1.0  0.888447      17.76  0.672917      25.26   \n",
       "4           6         1.0  1.027729       9.66  0.796196      16.08   \n",
       "5          10         1.0  1.381059       1.78  1.089309       4.76   \n",
       "\n",
       "   range_10_h_mR  range_10_h_insm  range_10_s_mR  range_10_s_insm  ...  \\\n",
       "0       0.087200           100.00       0.087200           100.00  ...   \n",
       "1       0.102797            74.28       0.060323            83.98  ...   \n",
       "2       0.092482            67.70       0.053482            77.08  ...   \n",
       "3       0.084084            62.98       0.044617            75.22  ...   \n",
       "4       0.074628            60.80       0.038825            73.42  ...   \n",
       "5       0.061678            48.86       0.031752            64.36  ...   \n",
       "\n",
       "   aprv_s_mR  aprv_s_insm  IRV_h_mR  IRV_h_insm  star_6_h_mR  star_6_h_insm  \\\n",
       "0   0.087200       100.00  0.087200      100.00     0.087200         100.00   \n",
       "1   0.032766       100.00  0.325084       60.28     0.034267          97.10   \n",
       "2   0.021306        94.74  0.493685       36.06     0.031224          86.70   \n",
       "3   0.019656        91.44  0.642065       22.04     0.039001          78.78   \n",
       "4   0.015549        90.40  0.736790       12.18     0.043557          73.16   \n",
       "5   0.016260        81.52  0.891555        2.18     0.052468          53.22   \n",
       "\n",
       "   star_6_s_mR  star_6_s_insm   rp_h_mR  rp_h_insm  \n",
       "0     0.087200         100.00  0.087200      100.0  \n",
       "1     0.032766         100.00  0.032766      100.0  \n",
       "2     0.015483          95.84  0.012544      100.0  \n",
       "3     0.016528          91.36  0.007283      100.0  \n",
       "4     0.017222          87.76  0.005253      100.0  \n",
       "5     0.027831          70.00  0.001871      100.0  \n",
       "\n",
       "[6 rows x 22 columns]"
      ]
     },
     "execution_count": 21,
     "metadata": {},
     "output_type": "execute_result"
    }
   ],
   "source": [
    "config_new = copy.deepcopy(config)\n",
    "# config_new['candidates'] = 6\n",
    "config_new['considerations'] = yaml.safe_load(\n",
    "'''\n",
    "- Issues:\n",
    "    issues:\n",
    "    - sigma: 1.0\n",
    "      halfcsep: 1.5\n",
    "      halfvsep: 2.0\n",
    "'''\n",
    ")\n",
    "study_lib.run_experiment(\n",
    "    cs(config_new, 'candidates', [2, 3, 4, 5, 6, 10]),\n",
    "    5000,\n",
    "    sm=True\n",
    ")"
   ]
  },
  {
   "cell_type": "code",
   "execution_count": 22,
   "metadata": {},
   "outputs": [],
   "source": [
    "config_new['candidates'] = 10\n",
    "rslt_10c = do_run(config_new, 10000)"
   ]
  },
  {
   "cell_type": "code",
   "execution_count": 28,
   "metadata": {},
   "outputs": [
    {
     "data": {
      "text/html": [
       "<pre>[[2.54, -2.41, -1.24, -1.61, 2.65, 2.6, 1.95, 3.59, 2.66, 1.1],\n",
       " [3.01, -0.863, -2.18, -1.89, 0.931, 2.5, -2.63, -5.05, -3.02, -1.87]]\n",
       "----------------------------------------------------------------------\n",
       "type: 2 * option[var * ?float64]</pre>"
      ],
      "text/plain": [
       "<Array [[2.54, -2.41, ..., 2.66, 1.1], ...] type='2 * option[var * ?float64]'>"
      ]
     },
     "execution_count": 28,
     "metadata": {},
     "output_type": "execute_result"
    }
   ],
   "source": [
    "iss = ak.flatten(rslt_10c.issues, axis=2)\n",
    "iss[:2]"
   ]
  },
  {
   "cell_type": "code",
   "execution_count": 43,
   "metadata": {},
   "outputs": [],
   "source": [
    "pl_h_winner_iss = iss[np.arange(len(iss)), rslt_10c.methods.pl_h.winner]\n",
    "#all_iss = ak.ravel(rslt_10c.issues)\n",
    "all_iss = rslt_10c.issues[:,0,0]"
   ]
  },
  {
   "cell_type": "code",
   "execution_count": 44,
   "metadata": {},
   "outputs": [
    {
     "data": {
      "text/plain": [
       "<seaborn.axisgrid.FacetGrid at 0x7673b3fc14c0>"
      ]
     },
     "execution_count": 44,
     "metadata": {},
     "output_type": "execute_result"
    },
    {
     "data": {
      "image/png": "[encoded data removed]",
      "text/plain": [
       "<Figure size 578.5x500 with 1 Axes>"
      ]
     },
     "metadata": {},
     "output_type": "display_data"
    }
   ],
   "source": [
    "sns.displot({'all':all_iss, 'pl_h':pl_h_winner_iss})"
   ]
  },
  {
   "cell_type": "code",
   "execution_count": 45,
   "metadata": {},
   "outputs": [
    {
     "data": {
      "text/plain": [
       "<seaborn.axisgrid.FacetGrid at 0x7673b3fb76e0>"
      ]
     },
     "execution_count": 45,
     "metadata": {},
     "output_type": "execute_result"
    },
    {
     "data": {
      "image/png": "[encoded data removed]",
      "text/plain": [
       "<Figure size 500x500 with 1 Axes>"
      ]
     },
     "metadata": {},
     "output_type": "display_data"
    }
   ],
   "source": [
    "sns.displot(ak.ravel(rslt_10c.issues))"
   ]
  },
  {
   "cell_type": "code",
   "execution_count": 46,
   "metadata": {},
   "outputs": [],
   "source": [
    "rp_h_winner_iss = iss[np.arange(len(iss)), rslt_10c.methods.rp_h.winner]\n",
    "IRV_h_winner_iss = iss[np.arange(len(iss)), rslt_10c.methods.IRV_h.winner]"
   ]
  },
  {
   "cell_type": "code",
   "execution_count": 47,
   "metadata": {},
   "outputs": [
    {
     "data": {
      "text/plain": [
       "<seaborn.axisgrid.FacetGrid at 0x7673b3fad280>"
      ]
     },
     "execution_count": 47,
     "metadata": {},
     "output_type": "execute_result"
    },
    {
     "data": {
      "image/png": "[encoded data removed]",
      "text/plain": [
       "<Figure size 578.5x500 with 1 Axes>"
      ]
     },
     "metadata": {},
     "output_type": "display_data"
    }
   ],
   "source": [
    "sns.displot({'all':all_iss, 'pl_h':pl_h_winner_iss, 'IRV':IRV_h_winner_iss, 'RP':rp_h_winner_iss})"
   ]
  },
  {
   "cell_type": "code",
   "execution_count": null,
   "metadata": {},
   "outputs": [],
   "source": []
  }
 ],
 "metadata": {
  "kernelspec": {
   "display_name": "env",
   "language": "python",
   "name": "python3"
  },
  "language_info": {
   "codemirror_mode": {
    "name": "ipython",
    "version": 3
   },
   "file_extension": ".py",
   "mimetype": "text/x-python",
   "name": "python",
   "nbconvert_exporter": "python",
   "pygments_lexer": "ipython3",
   "version": "3.12.6"
  }
 },
 "nbformat": 4,
 "nbformat_minor": 2
}
