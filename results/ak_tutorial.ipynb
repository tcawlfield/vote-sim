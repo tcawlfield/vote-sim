{
 "cells": [
  {
   "cell_type": "code",
   "execution_count": 1,
   "metadata": {},
   "outputs": [],
   "source": [
    "import numpy as np\n",
    "import awkward as ak\n",
    "\n",
    "metadata = ak.metadata_from_parquet(\n",
    "    \"https://zenodo.org/records/14537442/files/chicago-taxi.parquet\"\n",
    ")"
   ]
  },
  {
   "cell_type": "code",
   "execution_count": 2,
   "metadata": {},
   "outputs": [
    {
     "name": "stdout",
     "output_type": "stream",
     "text": [
      "var * {\n",
      "    trip: {\n",
      "        sec: ?float32,\n",
      "        km: ?float32,\n",
      "        begin: {\n",
      "            lon: ?float64,\n",
      "            lat: ?float64,\n",
      "            time: ?datetime64[ms]\n",
      "        },\n",
      "        end: {\n",
      "            lon: ?float64,\n",
      "            lat: ?float64,\n",
      "            time: ?datetime64[ms]\n",
      "        },\n",
      "        path: var * {\n",
      "            londiff: float32,\n",
      "            latdiff: float32\n",
      "        }\n",
      "    },\n",
      "    payment: {\n",
      "        fare: ?float32,\n",
      "        tips: ?float32,\n",
      "        total: ?float32,\n",
      "        type: categorical[type=string]\n",
      "    },\n",
      "    company: categorical[type=string]\n",
      "}\n"
     ]
    }
   ],
   "source": [
    "metadata[\"form\"].type.show()"
   ]
  },
  {
   "cell_type": "code",
   "execution_count": 4,
   "metadata": {},
   "outputs": [],
   "source": [
    "taxi = ak.from_parquet(\n",
    "    \"https://zenodo.org/records/14537442/files/chicago-taxi.parquet\",\n",
    "    row_groups=[0],\n",
    "    columns=[\"trip.km\", \"trip.begin.l*\", \"trip.end.l*\", \"trip.path.*\"],\n",
    ")"
   ]
  },
  {
   "cell_type": "code",
   "execution_count": 5,
   "metadata": {},
   "outputs": [
    {
     "data": {
      "text/html": [
       "<pre>[[{km: 0, begin: {lon: -87.7, ...}, end: {...}, path: [...]}, ..., {...}],\n",
       " [{km: 0, begin: {lon: -87.7, ...}, end: {...}, path: [...]}, ..., {...}],\n",
       " [{km: 0.966, begin: {lon: -87.6, ...}, end: {...}, path: [...]}, ..., {...}],\n",
       " [{km: 1.29, begin: {lon: -87.6, ...}, end: {...}, path: [...]}, ..., {...}],\n",
       " [{km: 0, begin: {lon: -87.7, ...}, end: {...}, path: [...]}, ..., {...}],\n",
       " [{km: 29.6, begin: {lon: -87.9, ...}, end: {...}, path: [...]}, ..., {...}],\n",
       " [{km: 29.1, begin: {lon: -87.9, ...}, end: {...}, path: [...]}, ..., {...}],\n",
       " [],\n",
       " [{km: 2.74, begin: {lon: -87.6, ...}, end: {...}, path: [...]}, ..., {...}],\n",
       " [{km: 0, begin: {lon: -87.7, ...}, end: {...}, path: [...]}, ..., {...}],\n",
       " ...,\n",
       " [{km: 0.966, begin: {lon: -87.6, ...}, end: {...}, path: [...]}, ..., {...}],\n",
       " [{km: 0, begin: {lon: None, ...}, end: {...}, path: []}, ..., {km: 0, ...}],\n",
       " [{km: 0, begin: {lon: None, ...}, end: {...}, path: []}, ..., {km: 10.1, ...}],\n",
       " [{km: 0, begin: {lon: None, ...}, end: {...}, path: []}, ..., {km: 0, ...}],\n",
       " [{km: 0, begin: {lon: None, ...}, end: {...}, path: []}, ..., {km: 0, ...}],\n",
       " [{km: 0.483, begin: {lon: -87.9, ...}, end: {...}, path: [...]}, ..., {...}],\n",
       " [{km: 0, begin: {lon: None, ...}, end: {...}, path: []}, ..., {km: 0, ...}],\n",
       " [{km: 1.38, begin: {lon: -87.6, ...}, end: {...}, path: [...]}, ..., {...}],\n",
       " [{km: 0, begin: {lon: -87.7, ...}, end: {...}, path: [...]}, ..., {...}]]\n",
       "--------------------------------------------------------------------------------\n",
       "type: 353 * var * ?{\n",
       "    km: ?float32,\n",
       "    begin: {\n",
       "        lon: ?float64,\n",
       "        lat: ?float64\n",
       "    },\n",
       "    end: {\n",
       "        lon: ?float64,\n",
       "        lat: ?float64\n",
       "    },\n",
       "    path: var * {\n",
       "        londiff: float32,\n",
       "        latdiff: float32\n",
       "    }\n",
       "}</pre>"
      ],
      "text/plain": [
       "<Array [[{km: 0, begin: {...}, ...}, ...], ...] type='353 * var * ?{km: ?fl...'>"
      ]
     },
     "execution_count": 5,
     "metadata": {},
     "output_type": "execute_result"
    }
   ],
   "source": [
    "taxi.trip"
   ]
  },
  {
   "cell_type": "code",
   "execution_count": 6,
   "metadata": {},
   "outputs": [],
   "source": [
    "taxi_trip_lat = taxi.trip.begin.lat + taxi.trip.path.latdiff\n",
    "taxi_trip_lon = taxi.trip.begin.lon + taxi.trip.path.londiff"
   ]
  },
  {
   "cell_type": "code",
   "execution_count": 7,
   "metadata": {},
   "outputs": [
    {
     "data": {
      "text/html": [
       "<pre>[[[41.9, 41.9], [41.9, 41.9, 41.9, 41.9, ..., 41.9, 41.9, 41.9], ..., [42, 42]],\n",
       " [[41.9, 41.9], [41.9, 41.9], ..., [42, 42, 42, 42, ..., 42, 42, 42, 42], []],\n",
       " [[41.9, 41.9, 41.9, 41.9, 41.9, 41.9, 41.9], [41.9, ..., 41.9], ..., None],\n",
       " [[41.9, 41.9, 41.9, 41.9, 41.9, 41.9], ..., [41.9, 41.9, ..., 41.9, 41.9]],\n",
       " [[41.9, 41.9], [41.9, ...], ..., [41.9, 41.9, 41.9, 41.9, 41.9, 41.9, 41.9]],\n",
       " [[42, 42, 42, 42, 42, 42, 42, ..., 41.9, 41.9, 41.9, 41.9, 41.9, 41.9], ...],\n",
       " [[42, 42, 42, 42, 42, 42, 42, ..., 41.9, 41.9, 41.9, 41.9, 41.9, 41.9], ...],\n",
       " [],\n",
       " [[41.9, 41.9, 41.9, 41.9, 41.9, 41.9, ..., 41.9, 41.9, 41.9, 41.9, 41.9], ...],\n",
       " [[41.9, 41.9], ..., [41.9, 41.9, 41.9, 41.9, 41.9, ..., 42, 42, 42, 42, 42]],\n",
       " ...,\n",
       " [[41.9, 41.9, 41.9, 41.9, 41.9, 41.9], ..., [41.9, 41.9, ..., 41.9, 41.9]],\n",
       " [None, None, None, None, None, None, None],\n",
       " [None, None, None, None, None, None, ..., None, None, None, None, None, None],\n",
       " [None, None, None, None, None, None, ..., None, None, None, None, None, None],\n",
       " [None, None, None, None, None, None, ..., None, None, None, None, None, None],\n",
       " [[42, 42], [42, 42, 42, 42, 42, ..., 42, 42, 42, 42, 42], ..., [41.9, 41.9]],\n",
       " [None, [41.9, 41.9], [41.8, 41.8], ..., [42, 42, ..., 41.9], [42, 42], None],\n",
       " [[41.9, 41.9, 41.9, 41.9, 41.9, 41.9], ..., [42, 42, 42, 42, ..., 42, 42, 42]],\n",
       " [[42, 42], [42, 42], ..., [41.9, 41.9, 41.9, ..., 41.9, 41.9], [41.9, 41.9]]]\n",
       "--------------------------------------------------------------------------------\n",
       "type: 353 * var * option[var * float64]</pre>"
      ],
      "text/plain": [
       "<Array [[[41.9, 41.9], ..., [42, ...]], ...] type='353 * var * option[var *...'>"
      ]
     },
     "execution_count": 7,
     "metadata": {},
     "output_type": "execute_result"
    }
   ],
   "source": [
    "taxi_trip_lat"
   ]
  },
  {
   "cell_type": "code",
   "execution_count": 8,
   "metadata": {},
   "outputs": [],
   "source": [
    "taxi[(\"trip\", \"path\", \"lat\")] = taxi_trip_lat\n",
    "taxi[(\"trip\", \"path\", \"lon\")] = taxi_trip_lon"
   ]
  },
  {
   "cell_type": "code",
   "execution_count": 9,
   "metadata": {},
   "outputs": [
    {
     "name": "stdout",
     "output_type": "stream",
     "text": [
      "353 * var * ?{\n",
      "    trip: {\n",
      "        km: ?float32,\n",
      "        begin: {\n",
      "            lon: ?float64,\n",
      "            lat: ?float64\n",
      "        },\n",
      "        end: {\n",
      "            lon: ?float64,\n",
      "            lat: ?float64\n",
      "        },\n",
      "        path: var * {\n",
      "            londiff: float32,\n",
      "            latdiff: float32,\n",
      "            lat: float64,\n",
      "            lon: float64\n",
      "        }\n",
      "    }\n",
      "}\n"
     ]
    }
   ],
   "source": [
    "taxi.type.show()"
   ]
  },
  {
   "cell_type": "code",
   "execution_count": 11,
   "metadata": {},
   "outputs": [
    {
     "data": {
      "text/html": [
       "<pre>[{km: 0, begin: {lon: -87.7, lat: 41.9}, end: {...}, path: [...]},\n",
       " {km: 0, begin: {lon: -87.7, lat: 41.9}, end: {...}, path: [...]},\n",
       " {km: 0, begin: {lon: -87.6, lat: 41.9}, end: {...}, path: [...]},\n",
       " {km: 0, begin: {lon: -87.6, lat: 41.9}, end: {...}, path: [...]},\n",
       " {km: 0, begin: {lon: -87.6, lat: 41.9}, end: {...}, path: [...]},\n",
       " {km: 0, begin: {lon: -87.7, lat: 41.9}, end: {...}, path: [...]},\n",
       " {km: 0, begin: {lon: -87.6, lat: 41.9}, end: {...}, path: [...]},\n",
       " {km: 0, begin: {lon: -87.6, lat: 41.9}, end: {...}, path: [...]},\n",
       " {km: 0, begin: {lon: -87.6, lat: 41.9}, end: {...}, path: [...]},\n",
       " {km: 0, begin: {lon: -87.6, lat: 41.9}, end: {...}, path: [...]},\n",
       " ...,\n",
       " {km: 6.12, begin: {lon: -87.6, lat: ..., ...}, end: {...}, path: [...]},\n",
       " {km: 8.37, begin: {lon: -87.6, lat: ..., ...}, end: {...}, path: [...]},\n",
       " {km: 2.9, begin: {lon: -87.6, lat: 41.9}, end: {...}, path: [...]},\n",
       " {km: 7.24, begin: {lon: -87.6, lat: ..., ...}, end: {...}, path: [...]},\n",
       " {km: 12.7, begin: {lon: -87.6, lat: ..., ...}, end: {...}, path: [...]},\n",
       " {km: 2.25, begin: {lon: -87.6, lat: ..., ...}, end: {...}, path: [...]},\n",
       " {km: 1.93, begin: {lon: -87.6, lat: ..., ...}, end: {...}, path: [...]},\n",
       " {km: 5.47, begin: {lon: -87.6, lat: ..., ...}, end: {...}, path: [...]},\n",
       " {km: 0.966, begin: {lon: -87.6, lat: ..., ...}, end: {...}, path: [...]}]\n",
       "--------------------------------------------------------------------------\n",
       "type: 1003517 * ?{\n",
       "    km: ?float32,\n",
       "    begin: {\n",
       "        lon: ?float64,\n",
       "        lat: ?float64\n",
       "    },\n",
       "    end: {\n",
       "        lon: ?float64,\n",
       "        lat: ?float64\n",
       "    },\n",
       "    path: var * {\n",
       "        londiff: float32,\n",
       "        latdiff: float32,\n",
       "        lat: float64,\n",
       "        lon: float64\n",
       "    }\n",
       "}</pre>"
      ],
      "text/plain": [
       "<Array [{km: 0, begin: {...}, ...}, ..., {...}] type='1003517 * ?{km: ?floa...'>"
      ]
     },
     "execution_count": 11,
     "metadata": {},
     "output_type": "execute_result"
    }
   ],
   "source": [
    "trip = ak.flatten(taxi.trip, axis=1)\n",
    "trip"
   ]
  },
  {
   "cell_type": "code",
   "execution_count": 12,
   "metadata": {},
   "outputs": [],
   "source": [
    "ix_length = ak.argsort(trip.km, ascending=False)"
   ]
  },
  {
   "cell_type": "code",
   "execution_count": 13,
   "metadata": {},
   "outputs": [
    {
     "data": {
      "text/html": [
       "<pre>[{km: 1.57e+03, begin: {lon: -87.8, ...}, end: {...}, path: [...]},\n",
       " {km: 1.52e+03, begin: {lon: -87.8, ...}, end: {...}, path: [...]},\n",
       " {km: 1.26e+03, begin: {lon: -87.9, ...}, end: {...}, path: [...]}]\n",
       "-------------------------------------------------------------------\n",
       "type: 3 * ?{\n",
       "    km: ?float32,\n",
       "    begin: {\n",
       "        lon: ?float64,\n",
       "        lat: ?float64\n",
       "    },\n",
       "    end: {\n",
       "        lon: ?float64,\n",
       "        lat: ?float64\n",
       "    },\n",
       "    path: var * {\n",
       "        londiff: float32,\n",
       "        latdiff: float32,\n",
       "        lat: float64,\n",
       "        lon: float64\n",
       "    }\n",
       "}</pre>"
      ],
      "text/plain": [
       "<Array [{km: 1.57e+03, begin: {...}, ...}, ...] type='3 * ?{km: ?float32, b...'>"
      ]
     },
     "execution_count": 13,
     "metadata": {},
     "output_type": "execute_result"
    }
   ],
   "source": [
    "trip_longest = trip[ix_length[:3]]\n",
    "trip_longest"
   ]
  },
  {
   "cell_type": "code",
   "execution_count": 14,
   "metadata": {},
   "outputs": [],
   "source": [
    "lat_lon_taxi_75 = ak.concatenate(\n",
    "    (trip_longest.path.lat[..., np.newaxis], trip_longest.path.lon[..., np.newaxis]),\n",
    "    axis=-1,\n",
    ")"
   ]
  },
  {
   "cell_type": "code",
   "execution_count": 15,
   "metadata": {},
   "outputs": [
    {
     "data": {
      "text/html": [
       "<pre>[[[41.8, -87.8], [41.8, -87.8], [41.8, ...], ..., [41.9, -87.6], [41.9, -87.6]],\n",
       " [[41.8, -87.8], [41.8, -87.8], [41.8, ...], ..., [41.9, -87.7], [41.9, -87.7]],\n",
       " [[42, -87.9], [42, -87.9], [42, ...], ..., [41.9, -87.6], [41.9, -87.6]]]\n",
       "--------------------------------------------------------------------------------\n",
       "type: 3 * option[var * 2 * float64]</pre>"
      ],
      "text/plain": [
       "<Array [[[41.8, -87.8], ..., [41.9, ...]], ...] type='3 * option[var * 2 * ...'>"
      ]
     },
     "execution_count": 15,
     "metadata": {},
     "output_type": "execute_result"
    }
   ],
   "source": [
    "lat_lon_taxi_75"
   ]
  },
  {
   "cell_type": "code",
   "execution_count": 17,
   "metadata": {},
   "outputs": [
    {
     "data": {
      "application/vnd.jupyter.widget-view+json": {
       "model_id": "6120134ac3b1449eabacfd8d95f26647",
       "version_major": 2,
       "version_minor": 0
      },
      "text/plain": [
       "Map(center=[41.8921, -87.6623], controls=(ZoomControl(options=['position', 'zoom_in_text', 'zoom_in_title', 'z…"
      ]
     },
     "execution_count": 17,
     "metadata": {},
     "output_type": "execute_result"
    }
   ],
   "source": [
    "import ipyleaflet as ipl\n",
    "\n",
    "map_taxi_75 = ipl.Map(\n",
    "    basemap=ipl.basemap_to_tiles(ipl.basemaps.CartoDB.Voyager, \"2022-04-08\"),\n",
    "    center=(41.8921, -87.6623),\n",
    "    zoom=11,\n",
    ")\n",
    "for route in lat_lon_taxi_75:\n",
    "    path = ipl.AntPath(locations=route.to_list(), delay=1000)\n",
    "    map_taxi_75.add_layer(path)\n",
    "map_taxi_75"
   ]
  },
  {
   "cell_type": "code",
   "execution_count": null,
   "metadata": {},
   "outputs": [],
   "source": []
  }
 ],
 "metadata": {
  "kernelspec": {
   "display_name": "env",
   "language": "python",
   "name": "python3"
  },
  "language_info": {
   "codemirror_mode": {
    "name": "ipython",
    "version": 3
   },
   "file_extension": ".py",
   "mimetype": "text/x-python",
   "name": "python",
   "nbconvert_exporter": "python",
   "pygments_lexer": "ipython3",
   "version": "3.12.4"
  }
 },
 "nbformat": 4,
 "nbformat_minor": 2
}
